{
 "cells": [
  {
   "cell_type": "markdown",
   "metadata": {},
   "source": [
    "# Assignment"
   ]
  },
  {
   "cell_type": "code",
   "execution_count": 1,
   "metadata": {},
   "outputs": [
    {
     "name": "stdout",
     "output_type": "stream",
     "text": [
      "[0 0 1 0]\n",
      "[1 0 1 0]\n",
      "[0 1 1 0]\n",
      "[0 0 0 0]\n",
      "\n",
      "[0 0 0 1]\n",
      "[0 0 0 1]\n",
      "[0 0 1 1]\n",
      "[0 0 1 0]\n",
      "\n"
     ]
    }
   ],
   "source": [
    "#IN this i am using a list of lists reppresenting the board where cells are supposed to be evolve.\n",
    "\n",
    "\n",
    "import numpy as np\n",
    "A=np.array( [[0,0,0,0,0,1],\n",
    "     [0,0,0,1,0,0],\n",
    "     [0,1,0,1,0,0],\n",
    "     [0,0,1,1,0,0],\n",
    "     [0,0,0,0,0,0],\n",
    "     [1,0,0,0,0,0]])\n",
    "\n",
    "def neighbours(A):     \n",
    "    s=len(A),len(A[0])\n",
    "    Z=[[0,]*(s[0])  for x in range(s[1])]\n",
    "    for u in range(1,s[0]-1):\n",
    "        for v in range(1,s[1]-1):\n",
    "            Z[u][v]=A[u-1][v-1]+A[u][v-1]+A[u+1][v-1]\\\n",
    "                    + A[u-1][v]+A[u+1][v]\\\n",
    "                    + A[u-1][v+1]+A[u][v+1]+A[u+1][v+1]\n",
    "    return Z\n",
    "\n",
    "def result(A):\n",
    "    for y in A[1:-1]:\n",
    "        print(y[1:-1])\n",
    "    print()\n",
    "\n",
    "def generate(A):\n",
    "    s=len(A), len(A[0])\n",
    "    Z=neighbours(A)\n",
    "    for u in range(1,s[0]-1):\n",
    "        for v in range(1,s[1]-1):\n",
    "            if A[u][v]==1 and (Z[u][v]<2 or Z[u][v]>3):\n",
    "                A[u][v]=0\n",
    "            elif A[u][v]==0 and Z[u][v]==3:\n",
    "                A[u][v]=1\n",
    "    return A\n",
    "\n",
    "result(A)\n",
    "for x in range(3):\n",
    "    generate(A)\n",
    "result(A)"
   ]
  },
  {
   "cell_type": "code",
   "execution_count": null,
   "metadata": {},
   "outputs": [],
   "source": []
  }
 ],
 "metadata": {
  "kernelspec": {
   "display_name": "Python 3",
   "language": "python",
   "name": "python3"
  },
  "language_info": {
   "codemirror_mode": {
    "name": "ipython",
    "version": 3
   },
   "file_extension": ".py",
   "mimetype": "text/x-python",
   "name": "python",
   "nbconvert_exporter": "python",
   "pygments_lexer": "ipython3",
   "version": "3.8.5"
  }
 },
 "nbformat": 4,
 "nbformat_minor": 4
}
